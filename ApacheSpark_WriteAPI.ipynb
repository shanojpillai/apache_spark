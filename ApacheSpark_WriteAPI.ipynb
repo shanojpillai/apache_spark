{
 "cells": [
  {
   "cell_type": "code",
   "execution_count": 6,
   "id": "c54d95eb",
   "metadata": {},
   "outputs": [],
   "source": [
    "from pyspark.sql import SparkSession\n",
    "from pyspark.sql import Row\n",
    "import os\n",
    "\n",
    "# Initialize a SparkSession\n",
    "spark = SparkSession.builder \\\n",
    "    .appName(\"DataFrameWriterSaveModesExample\") \\\n",
    "    .getOrCreate()\n",
    "\n",
    "# Sample data\n",
    "data = [\n",
    "    Row(name=\"Alice\", age=25, country=\"USA\"),\n",
    "    Row(name=\"Bob\", age=30, country=\"UK\")\n",
    "]\n",
    "\n",
    "# Additional data for append mode\n",
    "additional_data = [\n",
    "    Row(name=\"Carlos\", age=35, country=\"Spain\"),\n",
    "    Row(name=\"Daisy\", age=40, country=\"Australia\")\n",
    "]\n",
    "\n",
    "# Create DataFrames\n",
    "df = spark.createDataFrame(data)\n",
    "additional_df = spark.createDataFrame(additional_data)\n",
    "\n",
    "# Define output path\n",
    "output_path = \"/home/itv010047/tmp\""
   ]
  },
  {
   "cell_type": "code",
   "execution_count": 7,
   "id": "70f4e496",
   "metadata": {},
   "outputs": [
    {
     "name": "stdout",
     "output_type": "stream",
     "text": [
      "Initial DataFrame:\n",
      "+-----+---+-------+\n",
      "| name|age|country|\n",
      "+-----+---+-------+\n",
      "|Alice| 25|    USA|\n",
      "|  Bob| 30|     UK|\n",
      "+-----+---+-------+\n",
      "\n"
     ]
    }
   ],
   "source": [
    "# Function to list files in a directory\n",
    "def list_files_in_directory(path):\n",
    "    files = os.listdir(path)\n",
    "    return files\n",
    "\n",
    "# Show initial DataFrame\n",
    "print(\"Initial DataFrame:\")\n",
    "df.show()"
   ]
  },
  {
   "cell_type": "code",
   "execution_count": null,
   "id": "96c608cf",
   "metadata": {},
   "outputs": [],
   "source": [
    "# Write to CSV format using overwrite mode\n",
    "df.write.csv(output_path, mode=\"overwrite\", header=True)\n",
    "print(\"Files after overwrite mode:\", list_files_in_directory(output_path))\n",
    "\n",
    "# Show additional DataFrame\n",
    "print(\"Additional DataFrame:\")\n",
    "additional_df.show()"
   ]
  },
  {
   "cell_type": "code",
   "execution_count": null,
   "id": "f4c94b01",
   "metadata": {},
   "outputs": [],
   "source": [
    "# Write to CSV format using append mode\n",
    "additional_df.write.csv(output_path, mode=\"append\", header=True)\n",
    "print(\"Files after append mode:\", list_files_in_directory(output_path))"
   ]
  },
  {
   "cell_type": "code",
   "execution_count": null,
   "id": "b509dfd2",
   "metadata": {},
   "outputs": [],
   "source": [
    "# Write to CSV format using ignore mode\n",
    "additional_df.write.csv(output_path, mode=\"ignore\", header=True)\n",
    "print(\"Files after ignore mode:\", list_files_in_directory(output_path))"
   ]
  },
  {
   "cell_type": "code",
   "execution_count": null,
   "id": "56332278",
   "metadata": {},
   "outputs": [],
   "source": [
    "# Write to CSV format using errorIfExists mode\n",
    "try:\n",
    "    additional_df.write.csv(output_path, mode=\"errorIfExists\", header=True)\n",
    "except Exception as e:\n",
    "    print(\"An error occurred in errorIfExists mode:\", e)"
   ]
  },
  {
   "cell_type": "code",
   "execution_count": null,
   "id": "5bc0ed26",
   "metadata": {},
   "outputs": [],
   "source": [
    "# Stop the SparkSession\n",
    "spark.stop()"
   ]
  }
 ],
 "metadata": {
  "kernelspec": {
   "display_name": "Pyspark 3",
   "language": "python",
   "name": "pyspark3"
  },
  "language_info": {
   "codemirror_mode": {
    "name": "ipython",
    "version": 3
   },
   "file_extension": ".py",
   "mimetype": "text/x-python",
   "name": "python",
   "nbconvert_exporter": "python",
   "pygments_lexer": "ipython3",
   "version": "3.6.12"
  }
 },
 "nbformat": 4,
 "nbformat_minor": 5
}
